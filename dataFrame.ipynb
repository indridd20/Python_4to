{
 "cells": [
  {
   "cell_type": "code",
   "execution_count": 13,
   "metadata": {},
   "outputs": [
    {
     "name": "stdout",
     "output_type": "stream",
     "text": [
      "      id;Palabra;Lenguaje;Tipo\n",
      "0        1;and;python;operador\n",
      "1                2;as;python;n\n",
      "2            3;assert;python;n\n",
      "3             4;async;python;n\n",
      "4             5;await;python;n\n",
      "5         6;break;python;ciclo\n",
      "6             7;class;python;n\n",
      "7    8;continue;python;funcion\n",
      "8         9;def;python;funcion\n",
      "9              10;del;python;n\n",
      "10  11;elif;python;condicional\n",
      "11  12;else;python;condicional\n",
      "12          13;except;python;n\n",
      "13           14;False;python;n\n",
      "14         15;finally;python;n\n",
      "15         16;for;python;ciclo\n",
      "16            17;from;python;n\n",
      "17          18;global;python;n\n",
      "18    19;if;python;condicional\n",
      "19          20;import;python;n\n",
      "20              21;in;python;n\n",
      "21              22;is;python;n\n",
      "22          23;lambda;python;n\n",
      "23            24;None;python;n\n",
      "24        25;nonlocal;python;n\n",
      "25      26;not;python;operador\n",
      "26       27;or;python;operador\n",
      "27            28;pass;python;n\n",
      "28           29;raise;python;n\n",
      "29          30;return;python;n\n",
      "30            31;True;python;n\n",
      "31             32;try;python;n\n",
      "32       33;while;python;ciclo\n",
      "33            34;with;python;n\n",
      "34           35;yield;python;n\n"
     ]
    }
   ],
   "source": [
    "import pandas as pd\n",
    "\n",
    "# Cargar el conjunto de datos desde un archivo CSV\n",
    "\n",
    "df = pd.read_csv(\"gloario.csv\")\n",
    "\n",
    "print (df)"
   ]
  },
  {
   "cell_type": "code",
   "execution_count": 14,
   "metadata": {},
   "outputs": [
    {
     "name": "stdout",
     "output_type": "stream",
     "text": [
      "  id;Palabra;Lenguaje;Tipo\n",
      "0    1;and;python;operador\n",
      "1            2;as;python;n\n",
      "2        3;assert;python;n\n",
      "3         4;async;python;n\n",
      "4         5;await;python;n\n"
     ]
    }
   ],
   "source": [
    "#Mostrar las primeras filas.\n",
    "print(df.head())"
   ]
  },
  {
   "cell_type": "code",
   "execution_count": 15,
   "metadata": {},
   "outputs": [
    {
     "name": "stdout",
     "output_type": "stream",
     "text": [
      "       id;Palabra;Lenguaje;Tipo\n",
      "count                        35\n",
      "unique                       35\n",
      "top       1;and;python;operador\n",
      "freq                          1\n"
     ]
    }
   ],
   "source": [
    "# Obtener estadísticas descriptivas de las columnas numéricas\n",
    "print(df.describe())"
   ]
  },
  {
   "cell_type": "code",
   "execution_count": null,
   "metadata": {},
   "outputs": [],
   "source": [
    "# Eliminar duplicados si es necesario\n",
    "df = df.drop_duplicates()"
   ]
  },
  {
   "cell_type": "code",
   "execution_count": 35,
   "metadata": {},
   "outputs": [
    {
     "ename": "TypeError",
     "evalue": "list indices must be integers or slices, not str",
     "output_type": "error",
     "traceback": [
      "\u001b[1;31m---------------------------------------------------------------------------\u001b[0m",
      "\u001b[1;31mTypeError\u001b[0m                                 Traceback (most recent call last)",
      "Cell \u001b[1;32mIn[35], line 3\u001b[0m\n\u001b[0;32m      1\u001b[0m \u001b[39m# Reemplazar valores faltantes con un valor específico\u001b[39;00m\n\u001b[0;32m      2\u001b[0m valor \u001b[39m=\u001b[39m \u001b[39m1\u001b[39m\n\u001b[1;32m----> 3\u001b[0m df[\u001b[39m37\u001b[39m] \u001b[39m=\u001b[39m df[\u001b[39m'\u001b[39;49m\u001b[39mcolumna\u001b[39;49m\u001b[39m'\u001b[39;49m]\u001b[39m.\u001b[39mfillna(valor)\n\u001b[0;32m      4\u001b[0m \u001b[39mprint\u001b[39m(df)\n",
      "\u001b[1;31mTypeError\u001b[0m: list indices must be integers or slices, not str"
     ]
    }
   ],
   "source": [
    "# Reemplazar valores faltantes con un valor específico\n",
    "valor = 1\n",
    "df[37] = df['columna'].fillna(valor)\n",
    "print(df)"
   ]
  },
  {
   "cell_type": "code",
   "execution_count": null,
   "metadata": {},
   "outputs": [],
   "source": [
    "# Eliminar filas con valores nulos\n",
    "df = df.dropna()"
   ]
  }
 ],
 "metadata": {
  "kernelspec": {
   "display_name": "Python 3",
   "language": "python",
   "name": "python3"
  },
  "language_info": {
   "codemirror_mode": {
    "name": "ipython",
    "version": 3
   },
   "file_extension": ".py",
   "mimetype": "text/x-python",
   "name": "python",
   "nbconvert_exporter": "python",
   "pygments_lexer": "ipython3",
   "version": "3.11.0"
  },
  "orig_nbformat": 4
 },
 "nbformat": 4,
 "nbformat_minor": 2
}
